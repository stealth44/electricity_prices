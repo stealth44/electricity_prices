{
 "cells": [
  {
   "cell_type": "markdown",
   "id": "9a9ada08-c9f0-466f-91a0-265fa539f9f5",
   "metadata": {
    "tags": []
   },
   "source": [
    "# Understanding the local electricity market\n",
    "\n",
    "## 📖 Background\n",
    "You work for an energy company in Australia. Your company builds solar panel arrays and then sells the energy they produce to industrial customers. The company wants to expand to the city of Melbourne in the state of Victoria. \n",
    "\n",
    "Prices and demand for electricity change every day. Customers pay for the energy received using a formula based on the local energy market's daily price.\n",
    "\n",
    "Your company's pricing committee wants your team to estimate energy prices for the next 12-18 months to use those prices as the basis for contract negotiations.\n",
    "\n",
    "In addition, the VP of strategy is researching investing in storage capacity (i.e., batteries) as a new source of revenue. The plan is to store some of the energy produced by the solar panels when pricing conditions are unfavorable and sell it by the next day on the open market if the prices are higher."
   ]
  },
  {
   "cell_type": "markdown",
   "id": "10dcc269-3659-4851-99cd-f1ffb7f818aa",
   "metadata": {
    "tags": []
   },
   "source": [
    "## 💾 The data\n",
    "You have access to over five years of energy price and demand data ([source](https://www.kaggle.com/aramacus/electricity-demand-in-victoria-australia)):\n",
    "\n",
    "- \"date\" - from January 1, 2015, to October 6, 2020.\n",
    "- \"demand\" - daily electricity demand in MWh.\n",
    "- \"price\" - recommended retail price in AUD/MWh.\n",
    "- \"demand_pos_price\" - total daily demand at a positive price in MWh.\n",
    "- \"price_positive\" - average positive price, weighted by the corresponding intraday demand in AUD/MWh.\n",
    "- \"demand_neg_price\" - total daily demand at a negative price in MWh.\n",
    "- \"price_negative\" - average negative price, weighted by the corresponding intraday demand in AUD/MWh.\n",
    "- \"frac_neg_price\" - the fraction of the day when the demand traded at a negative price.\n",
    "- \"min_temperature\" - minimum temperature during the day in Celsius.\n",
    "- \"max_temperature\" - maximum temperature during the day in Celsius.\n",
    "- \"solar_exposure\" - total daily sunlight energy in MJ/m^2.\n",
    "- \"rainfall\" - daily rainfall in mm.\n",
    "- \"school_day\" - \"Y\" if that day was a school day, \"N\" otherwise.\n",
    "- \"holiday\" - \"Y\" if the day was a state or national holiday, \"N\" otherwise.\n",
    "\n",
    "Note: The price was negative during some intraday intervals, so energy producers were paying buyers rather than vice-versa."
   ]
  },
  {
   "cell_type": "code",
   "execution_count": 1,
   "id": "40251159-3eea-47f8-bfb4-09e38d5ced65",
   "metadata": {
    "executionStartedAt": 1667840092984,
    "executionStoppedAt": 1667840093002,
    "executionTime": 437,
    "lastSuccessfullyExecutedCode": "#import pandas as pd\n#df = pd.read_csv('./data/energy_demand.csv', parse_dates=['date'])\n#df.head()",
    "queuedAt": 1667840091913
   },
   "outputs": [],
   "source": [
    "#import pandas as pd\n",
    "#df = pd.read_csv('./data/energy_demand.csv', parse_dates=['date'])\n",
    "#df.head()"
   ]
  },
  {
   "cell_type": "markdown",
   "id": "54e0ae0c-ff96-443e-9ff3-718f1ab846e5",
   "metadata": {},
   "source": [
    "## 💪 Competition challenge\n",
    "\n",
    "Create a report that covers the following:\n",
    "\n",
    "1. How do energy prices change throughout the year? Are there any patterns by season or month of the year?\n",
    "2. Build a forecast of daily energy prices the company can use as the basis of its financial planning.\n",
    "3. Provide guidance on how much revenue the energy storage venture could generate per year using retail prices and a 70MWh storage system."
   ]
  },
  {
   "cell_type": "markdown",
   "id": "efda8e32-5c7e-48cc-8bd6-83ad3ba72f6e",
   "metadata": {},
   "source": [
    "## 🧑‍⚖️ Judging criteria\n",
    "\n",
    "| CATEGORY | WEIGHTING | DETAILS                                                              |\n",
    "|:---------|:----------|:---------------------------------------------------------------------|\n",
    "| **Recommendations** | 35%       | <ul><li>Clarity of recommendations - how clear and well presented the recommendation is.</li><li>Quality of recommendations - are appropriate analytical techniques used & are the conclusions valid?</li><li>Number of relevant insights found for the target audience.</li></ul>       |\n",
    "| **Storytelling**  | 35%       | <ul><li>How well the data and insights are connected to the recommendation.</li><li>How the narrative and whole report connects together.</li><li>Balancing making the report in-depth enough but also concise.</li></ul> |\n",
    "| **Visualizations** | 20% | <ul><li>Appropriateness of visualization used.</li><li>Clarity of insight from visualization.</li></ul> |\n",
    "| **Votes** | 10% | <ul><li>Up voting - most upvoted entries get the most points.</li></ul> |"
   ]
  },
  {
   "cell_type": "markdown",
   "id": "7fa68a10-14d8-4db9-a473-9efdab8f2fbd",
   "metadata": {},
   "source": [
    "## ✅ Checklist before publishing into the competition\n",
    "- Rename your workspace to make it descriptive of your work. N.B. you should leave the notebook name as notebook.ipynb.\n",
    "- **Remove redundant cells** like the judging criteria, so the workbook is focused on your story.\n",
    "- Make sure the workbook reads well and explains how you found your insights. \n",
    "- Try to include an **executive summary** of your recommendations at the beginning.\n",
    "- Check that all the cells run without error."
   ]
  },
  {
   "cell_type": "markdown",
   "id": "3bef7acb-5b00-4282-8c3e-1aa34bf4b7df",
   "metadata": {},
   "source": [
    "## ⌛️ Time is ticking. Good luck!"
   ]
  },
  {
   "cell_type": "code",
   "execution_count": 2,
   "id": "226b77bc-1823-4ba8-a1f9-e1c3f1420112",
   "metadata": {
    "executionStartedAt": 1667840093014,
    "executionStoppedAt": 1667840093542,
    "executionTime": 750,
    "lastSuccessfullyExecutedCode": "#load the dataset\nimport pandas as pd\ndata = pd.read_csv('complete_dataset.csv')\n#lets output the first 20 rows in the dataset\ndata.head(20)",
    "queuedAt": 1667840091919
   },
   "outputs": [
    {
     "data": {
      "text/html": [
       "<div>\n",
       "<style scoped>\n",
       "    .dataframe tbody tr th:only-of-type {\n",
       "        vertical-align: middle;\n",
       "    }\n",
       "\n",
       "    .dataframe tbody tr th {\n",
       "        vertical-align: top;\n",
       "    }\n",
       "\n",
       "    .dataframe thead th {\n",
       "        text-align: right;\n",
       "    }\n",
       "</style>\n",
       "<table border=\"1\" class=\"dataframe\">\n",
       "  <thead>\n",
       "    <tr style=\"text-align: right;\">\n",
       "      <th></th>\n",
       "      <th>demand</th>\n",
       "      <th>RRP</th>\n",
       "      <th>demand_pos_RRP</th>\n",
       "      <th>RRP_positive</th>\n",
       "      <th>demand_neg_RRP</th>\n",
       "      <th>RRP_negative</th>\n",
       "      <th>frac_at_neg_RRP</th>\n",
       "      <th>min_temperature</th>\n",
       "      <th>max_temperature</th>\n",
       "      <th>solar_exposure</th>\n",
       "      <th>rainfall</th>\n",
       "      <th>school_day</th>\n",
       "      <th>holiday</th>\n",
       "    </tr>\n",
       "    <tr>\n",
       "      <th>date</th>\n",
       "      <th></th>\n",
       "      <th></th>\n",
       "      <th></th>\n",
       "      <th></th>\n",
       "      <th></th>\n",
       "      <th></th>\n",
       "      <th></th>\n",
       "      <th></th>\n",
       "      <th></th>\n",
       "      <th></th>\n",
       "      <th></th>\n",
       "      <th></th>\n",
       "      <th></th>\n",
       "    </tr>\n",
       "  </thead>\n",
       "  <tbody>\n",
       "    <tr>\n",
       "      <th>2015-01-01</th>\n",
       "      <td>99635.030</td>\n",
       "      <td>25.633696</td>\n",
       "      <td>97319.240</td>\n",
       "      <td>26.415953</td>\n",
       "      <td>2315.790</td>\n",
       "      <td>-7.240000</td>\n",
       "      <td>0.020833</td>\n",
       "      <td>13.3</td>\n",
       "      <td>26.9</td>\n",
       "      <td>23.6</td>\n",
       "      <td>0.0</td>\n",
       "      <td>N</td>\n",
       "      <td>Y</td>\n",
       "    </tr>\n",
       "    <tr>\n",
       "      <th>2015-01-02</th>\n",
       "      <td>129606.010</td>\n",
       "      <td>33.138988</td>\n",
       "      <td>121082.015</td>\n",
       "      <td>38.837661</td>\n",
       "      <td>8523.995</td>\n",
       "      <td>-47.809777</td>\n",
       "      <td>0.062500</td>\n",
       "      <td>15.4</td>\n",
       "      <td>38.8</td>\n",
       "      <td>26.8</td>\n",
       "      <td>0.0</td>\n",
       "      <td>N</td>\n",
       "      <td>N</td>\n",
       "    </tr>\n",
       "    <tr>\n",
       "      <th>2015-01-03</th>\n",
       "      <td>142300.540</td>\n",
       "      <td>34.564855</td>\n",
       "      <td>142300.540</td>\n",
       "      <td>34.564855</td>\n",
       "      <td>0.000</td>\n",
       "      <td>0.000000</td>\n",
       "      <td>0.000000</td>\n",
       "      <td>20.0</td>\n",
       "      <td>38.2</td>\n",
       "      <td>26.5</td>\n",
       "      <td>0.0</td>\n",
       "      <td>N</td>\n",
       "      <td>N</td>\n",
       "    </tr>\n",
       "    <tr>\n",
       "      <th>2015-01-04</th>\n",
       "      <td>104330.715</td>\n",
       "      <td>25.005560</td>\n",
       "      <td>104330.715</td>\n",
       "      <td>25.005560</td>\n",
       "      <td>0.000</td>\n",
       "      <td>0.000000</td>\n",
       "      <td>0.000000</td>\n",
       "      <td>16.3</td>\n",
       "      <td>21.4</td>\n",
       "      <td>25.2</td>\n",
       "      <td>4.2</td>\n",
       "      <td>N</td>\n",
       "      <td>N</td>\n",
       "    </tr>\n",
       "    <tr>\n",
       "      <th>2015-01-05</th>\n",
       "      <td>118132.200</td>\n",
       "      <td>26.724176</td>\n",
       "      <td>118132.200</td>\n",
       "      <td>26.724176</td>\n",
       "      <td>0.000</td>\n",
       "      <td>0.000000</td>\n",
       "      <td>0.000000</td>\n",
       "      <td>15.0</td>\n",
       "      <td>22.0</td>\n",
       "      <td>30.7</td>\n",
       "      <td>0.0</td>\n",
       "      <td>N</td>\n",
       "      <td>N</td>\n",
       "    </tr>\n",
       "    <tr>\n",
       "      <th>2015-01-06</th>\n",
       "      <td>130672.485</td>\n",
       "      <td>31.282311</td>\n",
       "      <td>130672.485</td>\n",
       "      <td>31.282311</td>\n",
       "      <td>0.000</td>\n",
       "      <td>0.000000</td>\n",
       "      <td>0.000000</td>\n",
       "      <td>17.7</td>\n",
       "      <td>26.0</td>\n",
       "      <td>31.6</td>\n",
       "      <td>0.0</td>\n",
       "      <td>N</td>\n",
       "      <td>N</td>\n",
       "    </tr>\n",
       "    <tr>\n",
       "      <th>2015-01-07</th>\n",
       "      <td>153514.820</td>\n",
       "      <td>48.312309</td>\n",
       "      <td>149498.715</td>\n",
       "      <td>49.639712</td>\n",
       "      <td>4016.105</td>\n",
       "      <td>-1.100000</td>\n",
       "      <td>0.020833</td>\n",
       "      <td>18.9</td>\n",
       "      <td>37.4</td>\n",
       "      <td>20.7</td>\n",
       "      <td>0.0</td>\n",
       "      <td>N</td>\n",
       "      <td>N</td>\n",
       "    </tr>\n",
       "    <tr>\n",
       "      <th>2015-01-08</th>\n",
       "      <td>142015.655</td>\n",
       "      <td>49.117280</td>\n",
       "      <td>142015.655</td>\n",
       "      <td>49.117280</td>\n",
       "      <td>0.000</td>\n",
       "      <td>0.000000</td>\n",
       "      <td>0.000000</td>\n",
       "      <td>23.1</td>\n",
       "      <td>28.2</td>\n",
       "      <td>13.5</td>\n",
       "      <td>19.4</td>\n",
       "      <td>N</td>\n",
       "      <td>N</td>\n",
       "    </tr>\n",
       "    <tr>\n",
       "      <th>2015-01-09</th>\n",
       "      <td>121801.155</td>\n",
       "      <td>34.490675</td>\n",
       "      <td>121801.155</td>\n",
       "      <td>34.490675</td>\n",
       "      <td>0.000</td>\n",
       "      <td>0.000000</td>\n",
       "      <td>0.000000</td>\n",
       "      <td>16.5</td>\n",
       "      <td>18.0</td>\n",
       "      <td>3.1</td>\n",
       "      <td>1.2</td>\n",
       "      <td>N</td>\n",
       "      <td>N</td>\n",
       "    </tr>\n",
       "    <tr>\n",
       "      <th>2015-01-10</th>\n",
       "      <td>103043.660</td>\n",
       "      <td>20.229825</td>\n",
       "      <td>103043.660</td>\n",
       "      <td>20.229825</td>\n",
       "      <td>0.000</td>\n",
       "      <td>0.000000</td>\n",
       "      <td>0.000000</td>\n",
       "      <td>13.6</td>\n",
       "      <td>21.7</td>\n",
       "      <td>5.6</td>\n",
       "      <td>5.2</td>\n",
       "      <td>N</td>\n",
       "      <td>N</td>\n",
       "    </tr>\n",
       "    <tr>\n",
       "      <th>2015-01-11</th>\n",
       "      <td>99865.755</td>\n",
       "      <td>18.234768</td>\n",
       "      <td>99865.755</td>\n",
       "      <td>18.234768</td>\n",
       "      <td>0.000</td>\n",
       "      <td>0.000000</td>\n",
       "      <td>0.000000</td>\n",
       "      <td>15.6</td>\n",
       "      <td>27.5</td>\n",
       "      <td>29.9</td>\n",
       "      <td>0.0</td>\n",
       "      <td>N</td>\n",
       "      <td>N</td>\n",
       "    </tr>\n",
       "    <tr>\n",
       "      <th>2015-01-12</th>\n",
       "      <td>131261.125</td>\n",
       "      <td>33.694810</td>\n",
       "      <td>131261.125</td>\n",
       "      <td>33.694810</td>\n",
       "      <td>0.000</td>\n",
       "      <td>0.000000</td>\n",
       "      <td>0.000000</td>\n",
       "      <td>16.1</td>\n",
       "      <td>31.3</td>\n",
       "      <td>31.6</td>\n",
       "      <td>0.0</td>\n",
       "      <td>N</td>\n",
       "      <td>N</td>\n",
       "    </tr>\n",
       "    <tr>\n",
       "      <th>2015-01-13</th>\n",
       "      <td>126527.360</td>\n",
       "      <td>27.537864</td>\n",
       "      <td>126527.360</td>\n",
       "      <td>27.537864</td>\n",
       "      <td>0.000</td>\n",
       "      <td>0.000000</td>\n",
       "      <td>0.000000</td>\n",
       "      <td>20.2</td>\n",
       "      <td>25.6</td>\n",
       "      <td>4.2</td>\n",
       "      <td>0.0</td>\n",
       "      <td>N</td>\n",
       "      <td>N</td>\n",
       "    </tr>\n",
       "    <tr>\n",
       "      <th>2015-01-14</th>\n",
       "      <td>119741.620</td>\n",
       "      <td>29.018517</td>\n",
       "      <td>119741.620</td>\n",
       "      <td>29.018517</td>\n",
       "      <td>0.000</td>\n",
       "      <td>0.000000</td>\n",
       "      <td>0.000000</td>\n",
       "      <td>18.3</td>\n",
       "      <td>22.7</td>\n",
       "      <td>15.2</td>\n",
       "      <td>15.8</td>\n",
       "      <td>N</td>\n",
       "      <td>N</td>\n",
       "    </tr>\n",
       "    <tr>\n",
       "      <th>2015-01-15</th>\n",
       "      <td>118411.220</td>\n",
       "      <td>30.936539</td>\n",
       "      <td>118411.220</td>\n",
       "      <td>30.936539</td>\n",
       "      <td>0.000</td>\n",
       "      <td>0.000000</td>\n",
       "      <td>0.000000</td>\n",
       "      <td>15.8</td>\n",
       "      <td>20.0</td>\n",
       "      <td>14.6</td>\n",
       "      <td>0.0</td>\n",
       "      <td>N</td>\n",
       "      <td>N</td>\n",
       "    </tr>\n",
       "    <tr>\n",
       "      <th>2015-01-16</th>\n",
       "      <td>116690.765</td>\n",
       "      <td>23.015191</td>\n",
       "      <td>116690.765</td>\n",
       "      <td>23.015191</td>\n",
       "      <td>0.000</td>\n",
       "      <td>0.000000</td>\n",
       "      <td>0.000000</td>\n",
       "      <td>13.1</td>\n",
       "      <td>27.3</td>\n",
       "      <td>30.3</td>\n",
       "      <td>0.0</td>\n",
       "      <td>N</td>\n",
       "      <td>N</td>\n",
       "    </tr>\n",
       "    <tr>\n",
       "      <th>2015-01-17</th>\n",
       "      <td>99371.310</td>\n",
       "      <td>18.994927</td>\n",
       "      <td>99371.310</td>\n",
       "      <td>18.994927</td>\n",
       "      <td>0.000</td>\n",
       "      <td>0.000000</td>\n",
       "      <td>0.000000</td>\n",
       "      <td>15.9</td>\n",
       "      <td>25.0</td>\n",
       "      <td>27.5</td>\n",
       "      <td>0.0</td>\n",
       "      <td>N</td>\n",
       "      <td>N</td>\n",
       "    </tr>\n",
       "    <tr>\n",
       "      <th>2015-01-18</th>\n",
       "      <td>97728.750</td>\n",
       "      <td>17.008681</td>\n",
       "      <td>95473.965</td>\n",
       "      <td>20.911790</td>\n",
       "      <td>2254.785</td>\n",
       "      <td>-148.260000</td>\n",
       "      <td>0.020833</td>\n",
       "      <td>15.3</td>\n",
       "      <td>19.5</td>\n",
       "      <td>23.4</td>\n",
       "      <td>0.0</td>\n",
       "      <td>N</td>\n",
       "      <td>N</td>\n",
       "    </tr>\n",
       "    <tr>\n",
       "      <th>2015-01-19</th>\n",
       "      <td>116883.150</td>\n",
       "      <td>26.927876</td>\n",
       "      <td>116883.150</td>\n",
       "      <td>26.927876</td>\n",
       "      <td>0.000</td>\n",
       "      <td>0.000000</td>\n",
       "      <td>0.000000</td>\n",
       "      <td>13.5</td>\n",
       "      <td>23.6</td>\n",
       "      <td>29.0</td>\n",
       "      <td>0.0</td>\n",
       "      <td>N</td>\n",
       "      <td>N</td>\n",
       "    </tr>\n",
       "    <tr>\n",
       "      <th>2015-01-20</th>\n",
       "      <td>128968.125</td>\n",
       "      <td>23.078074</td>\n",
       "      <td>128968.125</td>\n",
       "      <td>23.078074</td>\n",
       "      <td>0.000</td>\n",
       "      <td>0.000000</td>\n",
       "      <td>0.000000</td>\n",
       "      <td>13.0</td>\n",
       "      <td>30.4</td>\n",
       "      <td>19.6</td>\n",
       "      <td>0.0</td>\n",
       "      <td>N</td>\n",
       "      <td>N</td>\n",
       "    </tr>\n",
       "  </tbody>\n",
       "</table>\n",
       "</div>"
      ],
      "text/plain": [
       "                demand        RRP  demand_pos_RRP  RRP_positive  \\\n",
       "date                                                              \n",
       "2015-01-01   99635.030  25.633696       97319.240     26.415953   \n",
       "2015-01-02  129606.010  33.138988      121082.015     38.837661   \n",
       "2015-01-03  142300.540  34.564855      142300.540     34.564855   \n",
       "2015-01-04  104330.715  25.005560      104330.715     25.005560   \n",
       "2015-01-05  118132.200  26.724176      118132.200     26.724176   \n",
       "2015-01-06  130672.485  31.282311      130672.485     31.282311   \n",
       "2015-01-07  153514.820  48.312309      149498.715     49.639712   \n",
       "2015-01-08  142015.655  49.117280      142015.655     49.117280   \n",
       "2015-01-09  121801.155  34.490675      121801.155     34.490675   \n",
       "2015-01-10  103043.660  20.229825      103043.660     20.229825   \n",
       "2015-01-11   99865.755  18.234768       99865.755     18.234768   \n",
       "2015-01-12  131261.125  33.694810      131261.125     33.694810   \n",
       "2015-01-13  126527.360  27.537864      126527.360     27.537864   \n",
       "2015-01-14  119741.620  29.018517      119741.620     29.018517   \n",
       "2015-01-15  118411.220  30.936539      118411.220     30.936539   \n",
       "2015-01-16  116690.765  23.015191      116690.765     23.015191   \n",
       "2015-01-17   99371.310  18.994927       99371.310     18.994927   \n",
       "2015-01-18   97728.750  17.008681       95473.965     20.911790   \n",
       "2015-01-19  116883.150  26.927876      116883.150     26.927876   \n",
       "2015-01-20  128968.125  23.078074      128968.125     23.078074   \n",
       "\n",
       "            demand_neg_RRP  RRP_negative  frac_at_neg_RRP  min_temperature  \\\n",
       "date                                                                         \n",
       "2015-01-01        2315.790     -7.240000         0.020833             13.3   \n",
       "2015-01-02        8523.995    -47.809777         0.062500             15.4   \n",
       "2015-01-03           0.000      0.000000         0.000000             20.0   \n",
       "2015-01-04           0.000      0.000000         0.000000             16.3   \n",
       "2015-01-05           0.000      0.000000         0.000000             15.0   \n",
       "2015-01-06           0.000      0.000000         0.000000             17.7   \n",
       "2015-01-07        4016.105     -1.100000         0.020833             18.9   \n",
       "2015-01-08           0.000      0.000000         0.000000             23.1   \n",
       "2015-01-09           0.000      0.000000         0.000000             16.5   \n",
       "2015-01-10           0.000      0.000000         0.000000             13.6   \n",
       "2015-01-11           0.000      0.000000         0.000000             15.6   \n",
       "2015-01-12           0.000      0.000000         0.000000             16.1   \n",
       "2015-01-13           0.000      0.000000         0.000000             20.2   \n",
       "2015-01-14           0.000      0.000000         0.000000             18.3   \n",
       "2015-01-15           0.000      0.000000         0.000000             15.8   \n",
       "2015-01-16           0.000      0.000000         0.000000             13.1   \n",
       "2015-01-17           0.000      0.000000         0.000000             15.9   \n",
       "2015-01-18        2254.785   -148.260000         0.020833             15.3   \n",
       "2015-01-19           0.000      0.000000         0.000000             13.5   \n",
       "2015-01-20           0.000      0.000000         0.000000             13.0   \n",
       "\n",
       "            max_temperature  solar_exposure  rainfall school_day holiday  \n",
       "date                                                                      \n",
       "2015-01-01             26.9            23.6       0.0          N       Y  \n",
       "2015-01-02             38.8            26.8       0.0          N       N  \n",
       "2015-01-03             38.2            26.5       0.0          N       N  \n",
       "2015-01-04             21.4            25.2       4.2          N       N  \n",
       "2015-01-05             22.0            30.7       0.0          N       N  \n",
       "2015-01-06             26.0            31.6       0.0          N       N  \n",
       "2015-01-07             37.4            20.7       0.0          N       N  \n",
       "2015-01-08             28.2            13.5      19.4          N       N  \n",
       "2015-01-09             18.0             3.1       1.2          N       N  \n",
       "2015-01-10             21.7             5.6       5.2          N       N  \n",
       "2015-01-11             27.5            29.9       0.0          N       N  \n",
       "2015-01-12             31.3            31.6       0.0          N       N  \n",
       "2015-01-13             25.6             4.2       0.0          N       N  \n",
       "2015-01-14             22.7            15.2      15.8          N       N  \n",
       "2015-01-15             20.0            14.6       0.0          N       N  \n",
       "2015-01-16             27.3            30.3       0.0          N       N  \n",
       "2015-01-17             25.0            27.5       0.0          N       N  \n",
       "2015-01-18             19.5            23.4       0.0          N       N  \n",
       "2015-01-19             23.6            29.0       0.0          N       N  \n",
       "2015-01-20             30.4            19.6       0.0          N       N  "
      ]
     },
     "execution_count": 2,
     "metadata": {},
     "output_type": "execute_result"
    }
   ],
   "source": [
    "#load the dataset\n",
    "import pandas as pd\n",
    "data = pd.read_csv('complete_dataset.csv', index_col='date', parse_dates=True)\n",
    "#lets output the first 20 rows in the dataset\n",
    "data.head(20)"
   ]
  },
  {
   "cell_type": "code",
   "execution_count": 3,
   "id": "3c87099f-9dc2-4b58-8336-712f7e045d25",
   "metadata": {
    "executionStartedAt": 1667840093552,
    "executionStoppedAt": 1667840093560,
    "executionTime": 0,
    "lastSuccessfullyExecutedCode": "#lets get more information on each columns in the dataset\ndata.info()",
    "queuedAt": 1667840091923
   },
   "outputs": [
    {
     "name": "stdout",
     "output_type": "stream",
     "text": [
      "<class 'pandas.core.frame.DataFrame'>\n",
      "DatetimeIndex: 2106 entries, 2015-01-01 to 2020-10-06\n",
      "Data columns (total 13 columns):\n",
      " #   Column           Non-Null Count  Dtype  \n",
      "---  ------           --------------  -----  \n",
      " 0   demand           2106 non-null   float64\n",
      " 1   RRP              2106 non-null   float64\n",
      " 2   demand_pos_RRP   2106 non-null   float64\n",
      " 3   RRP_positive     2106 non-null   float64\n",
      " 4   demand_neg_RRP   2106 non-null   float64\n",
      " 5   RRP_negative     2106 non-null   float64\n",
      " 6   frac_at_neg_RRP  2106 non-null   float64\n",
      " 7   min_temperature  2106 non-null   float64\n",
      " 8   max_temperature  2106 non-null   float64\n",
      " 9   solar_exposure   2105 non-null   float64\n",
      " 10  rainfall         2103 non-null   float64\n",
      " 11  school_day       2106 non-null   object \n",
      " 12  holiday          2106 non-null   object \n",
      "dtypes: float64(11), object(2)\n",
      "memory usage: 230.3+ KB\n"
     ]
    }
   ],
   "source": [
    "#lets get more information on each columns in the dataset\n",
    "d"
   ]
  },
  {
   "cell_type": "code",
   "execution_count": 4,
   "id": "0ffe53ad-d5dc-4994-b888-bd4e85c0a807",
   "metadata": {
    "executionStartedAt": 1667840093569,
    "executionStoppedAt": 1667840093575,
    "executionTime": 182,
    "lastSuccessfullyExecutedCode": "#Lets check the shape of the dataset\ndata.shape",
    "queuedAt": 1667840091926
   },
   "outputs": [
    {
     "data": {
      "text/plain": [
       "(2106, 14)"
      ]
     },
     "execution_count": 4,
     "metadata": {},
     "output_type": "execute_result"
    }
   ],
   "source": [
    "#Lets check the shape of the dataset\n",
    "data.shape"
   ]
  },
  {
   "cell_type": "markdown",
   "id": "a4d22fd8-f8ce-4293-bf37-1b50bdb7aecd",
   "metadata": {},
   "source": [
    "The dataset consists of 2,106 rows and 14 columns"
   ]
  },
  {
   "cell_type": "code",
   "execution_count": 5,
   "id": "488dcd50-d321-4cd5-9db6-09283a7dadf8",
   "metadata": {
    "executionStartedAt": 1667840093583,
    "executionStoppedAt": 1667840093593,
    "executionTime": 0,
    "lastSuccessfullyExecutedCode": "#lets check for the ammount of missing data\ndata.isnull().sum().sort_values(ascending=False)",
    "queuedAt": 1667840091928
   },
   "outputs": [
    {
     "data": {
      "text/plain": [
       "rainfall           3\n",
       "solar_exposure     1\n",
       "date               0\n",
       "demand             0\n",
       "RRP                0\n",
       "demand_pos_RRP     0\n",
       "RRP_positive       0\n",
       "demand_neg_RRP     0\n",
       "RRP_negative       0\n",
       "frac_at_neg_RRP    0\n",
       "min_temperature    0\n",
       "max_temperature    0\n",
       "school_day         0\n",
       "holiday            0\n",
       "dtype: int64"
      ]
     },
     "execution_count": 5,
     "metadata": {},
     "output_type": "execute_result"
    }
   ],
   "source": [
    "#lets check for the ammount of missing data\n",
    "data.isnull().sum().sort_values(ascending=False)"
   ]
  },
  {
   "cell_type": "code",
   "execution_count": 6,
   "id": "cb4e8787-9b70-46f5-8103-b70e7b89a255",
   "metadata": {
    "executionStartedAt": 1667840093604,
    "executionStoppedAt": 1667840093625,
    "executionTime": 0,
    "lastSuccessfullyExecutedCode": "#lets import some libraries we would be needing ",
    "queuedAt": 1667840091929
   },
   "outputs": [],
   "source": [
    "#lets import some libraries we would be needing "
   ]
  },
  {
   "cell_type": "code",
   "execution_count": 7,
   "id": "9f3d2739-7dc0-475b-937e-a7108006b98c",
   "metadata": {
    "executionStartedAt": 1667840093633,
    "executionStoppedAt": 1667840093994,
    "executionTime": 85,
    "lastSuccessfullyExecutedCode": "data.dtypes",
    "queuedAt": 1667840091931
   },
   "outputs": [
    {
     "data": {
      "text/plain": [
       "date                object\n",
       "demand             float64\n",
       "RRP                float64\n",
       "demand_pos_RRP     float64\n",
       "RRP_positive       float64\n",
       "demand_neg_RRP     float64\n",
       "RRP_negative       float64\n",
       "frac_at_neg_RRP    float64\n",
       "min_temperature    float64\n",
       "max_temperature    float64\n",
       "solar_exposure     float64\n",
       "rainfall           float64\n",
       "school_day          object\n",
       "holiday             object\n",
       "dtype: object"
      ]
     },
     "execution_count": 7,
     "metadata": {},
     "output_type": "execute_result"
    }
   ],
   "source": [
    "data.dtypes"
   ]
  },
  {
   "cell_type": "code",
   "execution_count": 8,
   "id": "8cbfb3e0-0160-4f3b-950d-c5e2c7e96286",
   "metadata": {
    "executionStartedAt": 1667840094004,
    "executionStoppedAt": 1667840094009,
    "executionTime": 27,
    "lastSuccessfullyExecutedCode": "#lets change the data type of the date from object to datetime\ndata['date']=pd.to_datetime(data['date'])\ndata.dtypes",
    "queuedAt": 1667840091933
   },
   "outputs": [
    {
     "data": {
      "text/plain": [
       "date               datetime64[ns]\n",
       "demand                    float64\n",
       "RRP                       float64\n",
       "demand_pos_RRP            float64\n",
       "RRP_positive              float64\n",
       "demand_neg_RRP            float64\n",
       "RRP_negative              float64\n",
       "frac_at_neg_RRP           float64\n",
       "min_temperature           float64\n",
       "max_temperature           float64\n",
       "solar_exposure            float64\n",
       "rainfall                  float64\n",
       "school_day                 object\n",
       "holiday                    object\n",
       "dtype: object"
      ]
     },
     "execution_count": 8,
     "metadata": {},
     "output_type": "execute_result"
    }
   ],
   "source": [
    "#lets change the data type of the date from object to datetime\n",
    "data['date']=pd.to_datetime(data['date'])\n",
    "data.dtypes"
   ]
  },
  {
   "cell_type": "markdown",
   "id": "f4d02152-abe9-4d31-a471-adaf464d34f6",
   "metadata": {},
   "source": [
    "## Lets extract some important data from the date column"
   ]
  },
  {
   "cell_type": "code",
   "execution_count": 9,
   "id": "48ca51cb-cd06-4aa8-814c-a0beac0b24fd",
   "metadata": {
    "executionStartedAt": 1667840094019,
    "executionStoppedAt": 1667840094174,
    "executionTime": 372,
    "lastSuccessfullyExecutedCode": "data['month'] = data['date'].dt.month_name()\ndata['day'] = data['date'].dt.day_name()\ndata['year']= data['date'].dt.year\ndata.head()",
    "queuedAt": 1667840091935
   },
   "outputs": [
    {
     "data": {
      "application/com.datacamp.data-table.v1+json": {
       "table": {
        "data": [
         {
          "RRP": 25.6336964339,
          "RRP_negative": -7.24,
          "RRP_positive": 26.4159526194,
          "date": "2015-01-01T00:00:00.000Z",
          "day": "Thursday",
          "demand": 99635.03,
          "demand_neg_RRP": 2315.79,
          "demand_pos_RRP": 97319.24,
          "frac_at_neg_RRP": 0.020833334,
          "holiday": "Y",
          "index": 0,
          "max_temperature": 26.9,
          "min_temperature": 13.3,
          "month": "January",
          "rainfall": 0,
          "school_day": "N",
          "solar_exposure": 23.6,
          "year": 2015
         },
         {
          "RRP": 33.1389875612,
          "RRP_negative": -47.8097765015,
          "RRP_positive": 38.837660978,
          "date": "2015-01-02T00:00:00.000Z",
          "day": "Friday",
          "demand": 129606.0099999999,
          "demand_neg_RRP": 8523.995,
          "demand_pos_RRP": 121082.0149999999,
          "frac_at_neg_RRP": 0.0625,
          "holiday": "N",
          "index": 1,
          "max_temperature": 38.8,
          "min_temperature": 15.4,
          "month": "January",
          "rainfall": 0,
          "school_day": "N",
          "solar_exposure": 26.8,
          "year": 2015
         },
         {
          "RRP": 34.5648548291,
          "RRP_negative": 0,
          "RRP_positive": 34.5648548291,
          "date": "2015-01-03T00:00:00.000Z",
          "day": "Saturday",
          "demand": 142300.54,
          "demand_neg_RRP": 0,
          "demand_pos_RRP": 142300.54,
          "frac_at_neg_RRP": 0,
          "holiday": "N",
          "index": 2,
          "max_temperature": 38.2,
          "min_temperature": 20,
          "month": "January",
          "rainfall": 0,
          "school_day": "N",
          "solar_exposure": 26.5,
          "year": 2015
         },
         {
          "RRP": 25.0055602384,
          "RRP_negative": 0,
          "RRP_positive": 25.0055602384,
          "date": "2015-01-04T00:00:00.000Z",
          "day": "Sunday",
          "demand": 104330.715,
          "demand_neg_RRP": 0,
          "demand_pos_RRP": 104330.715,
          "frac_at_neg_RRP": 0,
          "holiday": "N",
          "index": 3,
          "max_temperature": 21.4,
          "min_temperature": 16.3,
          "month": "January",
          "rainfall": 4.2,
          "school_day": "N",
          "solar_exposure": 25.2,
          "year": 2015
         },
         {
          "RRP": 26.7241762779,
          "RRP_negative": 0,
          "RRP_positive": 26.7241762779,
          "date": "2015-01-05T00:00:00.000Z",
          "day": "Monday",
          "demand": 118132.1999999999,
          "demand_neg_RRP": 0,
          "demand_pos_RRP": 118132.1999999999,
          "frac_at_neg_RRP": 0,
          "holiday": "N",
          "index": 4,
          "max_temperature": 22,
          "min_temperature": 15,
          "month": "January",
          "rainfall": 0,
          "school_day": "N",
          "solar_exposure": 30.7,
          "year": 2015
         }
        ],
        "schema": {
         "fields": [
          {
           "name": "index",
           "type": "integer"
          },
          {
           "name": "date",
           "type": "datetime"
          },
          {
           "name": "demand",
           "type": "number"
          },
          {
           "name": "RRP",
           "type": "number"
          },
          {
           "name": "demand_pos_RRP",
           "type": "number"
          },
          {
           "name": "RRP_positive",
           "type": "number"
          },
          {
           "name": "demand_neg_RRP",
           "type": "number"
          },
          {
           "name": "RRP_negative",
           "type": "number"
          },
          {
           "name": "frac_at_neg_RRP",
           "type": "number"
          },
          {
           "name": "min_temperature",
           "type": "number"
          },
          {
           "name": "max_temperature",
           "type": "number"
          },
          {
           "name": "solar_exposure",
           "type": "number"
          },
          {
           "name": "rainfall",
           "type": "number"
          },
          {
           "name": "school_day",
           "type": "string"
          },
          {
           "name": "holiday",
           "type": "string"
          },
          {
           "name": "month",
           "type": "string"
          },
          {
           "name": "day",
           "type": "string"
          },
          {
           "name": "year",
           "type": "integer"
          }
         ],
         "pandas_version": "1.4.0",
         "primaryKey": [
          "index"
         ]
        }
       },
       "total_rows": 5,
       "truncation_type": null
      },
      "text/html": [
       "<div>\n",
       "<style scoped>\n",
       "    .dataframe tbody tr th:only-of-type {\n",
       "        vertical-align: middle;\n",
       "    }\n",
       "\n",
       "    .dataframe tbody tr th {\n",
       "        vertical-align: top;\n",
       "    }\n",
       "\n",
       "    .dataframe thead th {\n",
       "        text-align: right;\n",
       "    }\n",
       "</style>\n",
       "<table border=\"1\" class=\"dataframe\">\n",
       "  <thead>\n",
       "    <tr style=\"text-align: right;\">\n",
       "      <th></th>\n",
       "      <th>date</th>\n",
       "      <th>demand</th>\n",
       "      <th>RRP</th>\n",
       "      <th>demand_pos_RRP</th>\n",
       "      <th>RRP_positive</th>\n",
       "      <th>demand_neg_RRP</th>\n",
       "      <th>RRP_negative</th>\n",
       "      <th>frac_at_neg_RRP</th>\n",
       "      <th>min_temperature</th>\n",
       "      <th>max_temperature</th>\n",
       "      <th>solar_exposure</th>\n",
       "      <th>rainfall</th>\n",
       "      <th>school_day</th>\n",
       "      <th>holiday</th>\n",
       "      <th>month</th>\n",
       "      <th>day</th>\n",
       "      <th>year</th>\n",
       "    </tr>\n",
       "  </thead>\n",
       "  <tbody>\n",
       "    <tr>\n",
       "      <th>0</th>\n",
       "      <td>2015-01-01</td>\n",
       "      <td>99635.030</td>\n",
       "      <td>25.633696</td>\n",
       "      <td>97319.240</td>\n",
       "      <td>26.415953</td>\n",
       "      <td>2315.790</td>\n",
       "      <td>-7.240000</td>\n",
       "      <td>0.020833</td>\n",
       "      <td>13.3</td>\n",
       "      <td>26.9</td>\n",
       "      <td>23.6</td>\n",
       "      <td>0.0</td>\n",
       "      <td>N</td>\n",
       "      <td>Y</td>\n",
       "      <td>January</td>\n",
       "      <td>Thursday</td>\n",
       "      <td>2015</td>\n",
       "    </tr>\n",
       "    <tr>\n",
       "      <th>1</th>\n",
       "      <td>2015-01-02</td>\n",
       "      <td>129606.010</td>\n",
       "      <td>33.138988</td>\n",
       "      <td>121082.015</td>\n",
       "      <td>38.837661</td>\n",
       "      <td>8523.995</td>\n",
       "      <td>-47.809777</td>\n",
       "      <td>0.062500</td>\n",
       "      <td>15.4</td>\n",
       "      <td>38.8</td>\n",
       "      <td>26.8</td>\n",
       "      <td>0.0</td>\n",
       "      <td>N</td>\n",
       "      <td>N</td>\n",
       "      <td>January</td>\n",
       "      <td>Friday</td>\n",
       "      <td>2015</td>\n",
       "    </tr>\n",
       "    <tr>\n",
       "      <th>2</th>\n",
       "      <td>2015-01-03</td>\n",
       "      <td>142300.540</td>\n",
       "      <td>34.564855</td>\n",
       "      <td>142300.540</td>\n",
       "      <td>34.564855</td>\n",
       "      <td>0.000</td>\n",
       "      <td>0.000000</td>\n",
       "      <td>0.000000</td>\n",
       "      <td>20.0</td>\n",
       "      <td>38.2</td>\n",
       "      <td>26.5</td>\n",
       "      <td>0.0</td>\n",
       "      <td>N</td>\n",
       "      <td>N</td>\n",
       "      <td>January</td>\n",
       "      <td>Saturday</td>\n",
       "      <td>2015</td>\n",
       "    </tr>\n",
       "    <tr>\n",
       "      <th>3</th>\n",
       "      <td>2015-01-04</td>\n",
       "      <td>104330.715</td>\n",
       "      <td>25.005560</td>\n",
       "      <td>104330.715</td>\n",
       "      <td>25.005560</td>\n",
       "      <td>0.000</td>\n",
       "      <td>0.000000</td>\n",
       "      <td>0.000000</td>\n",
       "      <td>16.3</td>\n",
       "      <td>21.4</td>\n",
       "      <td>25.2</td>\n",
       "      <td>4.2</td>\n",
       "      <td>N</td>\n",
       "      <td>N</td>\n",
       "      <td>January</td>\n",
       "      <td>Sunday</td>\n",
       "      <td>2015</td>\n",
       "    </tr>\n",
       "    <tr>\n",
       "      <th>4</th>\n",
       "      <td>2015-01-05</td>\n",
       "      <td>118132.200</td>\n",
       "      <td>26.724176</td>\n",
       "      <td>118132.200</td>\n",
       "      <td>26.724176</td>\n",
       "      <td>0.000</td>\n",
       "      <td>0.000000</td>\n",
       "      <td>0.000000</td>\n",
       "      <td>15.0</td>\n",
       "      <td>22.0</td>\n",
       "      <td>30.7</td>\n",
       "      <td>0.0</td>\n",
       "      <td>N</td>\n",
       "      <td>N</td>\n",
       "      <td>January</td>\n",
       "      <td>Monday</td>\n",
       "      <td>2015</td>\n",
       "    </tr>\n",
       "  </tbody>\n",
       "</table>\n",
       "</div>"
      ],
      "text/plain": [
       "        date      demand        RRP  demand_pos_RRP  RRP_positive  \\\n",
       "0 2015-01-01   99635.030  25.633696       97319.240     26.415953   \n",
       "1 2015-01-02  129606.010  33.138988      121082.015     38.837661   \n",
       "2 2015-01-03  142300.540  34.564855      142300.540     34.564855   \n",
       "3 2015-01-04  104330.715  25.005560      104330.715     25.005560   \n",
       "4 2015-01-05  118132.200  26.724176      118132.200     26.724176   \n",
       "\n",
       "   demand_neg_RRP  RRP_negative  frac_at_neg_RRP  min_temperature  \\\n",
       "0        2315.790     -7.240000         0.020833             13.3   \n",
       "1        8523.995    -47.809777         0.062500             15.4   \n",
       "2           0.000      0.000000         0.000000             20.0   \n",
       "3           0.000      0.000000         0.000000             16.3   \n",
       "4           0.000      0.000000         0.000000             15.0   \n",
       "\n",
       "   max_temperature  solar_exposure  rainfall school_day holiday    month  \\\n",
       "0             26.9            23.6       0.0          N       Y  January   \n",
       "1             38.8            26.8       0.0          N       N  January   \n",
       "2             38.2            26.5       0.0          N       N  January   \n",
       "3             21.4            25.2       4.2          N       N  January   \n",
       "4             22.0            30.7       0.0          N       N  January   \n",
       "\n",
       "        day  year  \n",
       "0  Thursday  2015  \n",
       "1    Friday  2015  \n",
       "2  Saturday  2015  \n",
       "3    Sunday  2015  \n",
       "4    Monday  2015  "
      ]
     },
     "execution_count": 9,
     "metadata": {},
     "output_type": "execute_result"
    }
   ],
   "source": [
    "data['month'] = data['date'].dt.month_name()\n",
    "data['day'] = data['date'].dt.day_name()\n",
    "data['year']= data['date'].dt.year\n",
    "data.head()"
   ]
  },
  {
   "cell_type": "code",
   "execution_count": 10,
   "id": "369bfa6c-a407-43ae-a57d-8f8c7b5e49d0",
   "metadata": {
    "executionStartedAt": 1667840094182,
    "executionStoppedAt": 1667840094187,
    "executionTime": 43,
    "lastSuccessfullyExecutedCode": "#since we have extrated the needed data from the date column, its time to remove it from the dataset\ndata.drop(labels='date', axis=1, inplace=True)",
    "queuedAt": 1667840091937
   },
   "outputs": [],
   "source": [
    "#since we have extrated the needed data from the date column, its time to remove it from the dataset\n",
    "data.drop(labels='date', axis=1, inplace=True)"
   ]
  },
  {
   "cell_type": "code",
   "execution_count": 11,
   "id": "484a4d62-8995-44a0-b975-d78232ee66ce",
   "metadata": {
    "executionStartedAt": 1667840094196,
    "executionStoppedAt": 1667840094203,
    "executionTime": 135,
    "lastSuccessfullyExecutedCode": "data.head(5)",
    "queuedAt": 1667840091938
   },
   "outputs": [
    {
     "data": {
      "application/com.datacamp.data-table.v1+json": {
       "table": {
        "data": [
         {
          "RRP": 25.6336964339,
          "RRP_negative": -7.24,
          "RRP_positive": 26.4159526194,
          "day": "Thursday",
          "demand": 99635.03,
          "demand_neg_RRP": 2315.79,
          "demand_pos_RRP": 97319.24,
          "frac_at_neg_RRP": 0.020833334,
          "holiday": "Y",
          "index": 0,
          "max_temperature": 26.9,
          "min_temperature": 13.3,
          "month": "January",
          "rainfall": 0,
          "school_day": "N",
          "solar_exposure": 23.6,
          "year": 2015
         },
         {
          "RRP": 33.1389875612,
          "RRP_negative": -47.8097765015,
          "RRP_positive": 38.837660978,
          "day": "Friday",
          "demand": 129606.0099999999,
          "demand_neg_RRP": 8523.995,
          "demand_pos_RRP": 121082.0149999999,
          "frac_at_neg_RRP": 0.0625,
          "holiday": "N",
          "index": 1,
          "max_temperature": 38.8,
          "min_temperature": 15.4,
          "month": "January",
          "rainfall": 0,
          "school_day": "N",
          "solar_exposure": 26.8,
          "year": 2015
         },
         {
          "RRP": 34.5648548291,
          "RRP_negative": 0,
          "RRP_positive": 34.5648548291,
          "day": "Saturday",
          "demand": 142300.54,
          "demand_neg_RRP": 0,
          "demand_pos_RRP": 142300.54,
          "frac_at_neg_RRP": 0,
          "holiday": "N",
          "index": 2,
          "max_temperature": 38.2,
          "min_temperature": 20,
          "month": "January",
          "rainfall": 0,
          "school_day": "N",
          "solar_exposure": 26.5,
          "year": 2015
         },
         {
          "RRP": 25.0055602384,
          "RRP_negative": 0,
          "RRP_positive": 25.0055602384,
          "day": "Sunday",
          "demand": 104330.715,
          "demand_neg_RRP": 0,
          "demand_pos_RRP": 104330.715,
          "frac_at_neg_RRP": 0,
          "holiday": "N",
          "index": 3,
          "max_temperature": 21.4,
          "min_temperature": 16.3,
          "month": "January",
          "rainfall": 4.2,
          "school_day": "N",
          "solar_exposure": 25.2,
          "year": 2015
         },
         {
          "RRP": 26.7241762779,
          "RRP_negative": 0,
          "RRP_positive": 26.7241762779,
          "day": "Monday",
          "demand": 118132.1999999999,
          "demand_neg_RRP": 0,
          "demand_pos_RRP": 118132.1999999999,
          "frac_at_neg_RRP": 0,
          "holiday": "N",
          "index": 4,
          "max_temperature": 22,
          "min_temperature": 15,
          "month": "January",
          "rainfall": 0,
          "school_day": "N",
          "solar_exposure": 30.7,
          "year": 2015
         }
        ],
        "schema": {
         "fields": [
          {
           "name": "index",
           "type": "integer"
          },
          {
           "name": "demand",
           "type": "number"
          },
          {
           "name": "RRP",
           "type": "number"
          },
          {
           "name": "demand_pos_RRP",
           "type": "number"
          },
          {
           "name": "RRP_positive",
           "type": "number"
          },
          {
           "name": "demand_neg_RRP",
           "type": "number"
          },
          {
           "name": "RRP_negative",
           "type": "number"
          },
          {
           "name": "frac_at_neg_RRP",
           "type": "number"
          },
          {
           "name": "min_temperature",
           "type": "number"
          },
          {
           "name": "max_temperature",
           "type": "number"
          },
          {
           "name": "solar_exposure",
           "type": "number"
          },
          {
           "name": "rainfall",
           "type": "number"
          },
          {
           "name": "school_day",
           "type": "string"
          },
          {
           "name": "holiday",
           "type": "string"
          },
          {
           "name": "month",
           "type": "string"
          },
          {
           "name": "day",
           "type": "string"
          },
          {
           "name": "year",
           "type": "integer"
          }
         ],
         "pandas_version": "1.4.0",
         "primaryKey": [
          "index"
         ]
        }
       },
       "total_rows": 5,
       "truncation_type": null
      },
      "text/html": [
       "<div>\n",
       "<style scoped>\n",
       "    .dataframe tbody tr th:only-of-type {\n",
       "        vertical-align: middle;\n",
       "    }\n",
       "\n",
       "    .dataframe tbody tr th {\n",
       "        vertical-align: top;\n",
       "    }\n",
       "\n",
       "    .dataframe thead th {\n",
       "        text-align: right;\n",
       "    }\n",
       "</style>\n",
       "<table border=\"1\" class=\"dataframe\">\n",
       "  <thead>\n",
       "    <tr style=\"text-align: right;\">\n",
       "      <th></th>\n",
       "      <th>demand</th>\n",
       "      <th>RRP</th>\n",
       "      <th>demand_pos_RRP</th>\n",
       "      <th>RRP_positive</th>\n",
       "      <th>demand_neg_RRP</th>\n",
       "      <th>RRP_negative</th>\n",
       "      <th>frac_at_neg_RRP</th>\n",
       "      <th>min_temperature</th>\n",
       "      <th>max_temperature</th>\n",
       "      <th>solar_exposure</th>\n",
       "      <th>rainfall</th>\n",
       "      <th>school_day</th>\n",
       "      <th>holiday</th>\n",
       "      <th>month</th>\n",
       "      <th>day</th>\n",
       "      <th>year</th>\n",
       "    </tr>\n",
       "  </thead>\n",
       "  <tbody>\n",
       "    <tr>\n",
       "      <th>0</th>\n",
       "      <td>99635.030</td>\n",
       "      <td>25.633696</td>\n",
       "      <td>97319.240</td>\n",
       "      <td>26.415953</td>\n",
       "      <td>2315.790</td>\n",
       "      <td>-7.240000</td>\n",
       "      <td>0.020833</td>\n",
       "      <td>13.3</td>\n",
       "      <td>26.9</td>\n",
       "      <td>23.6</td>\n",
       "      <td>0.0</td>\n",
       "      <td>N</td>\n",
       "      <td>Y</td>\n",
       "      <td>January</td>\n",
       "      <td>Thursday</td>\n",
       "      <td>2015</td>\n",
       "    </tr>\n",
       "    <tr>\n",
       "      <th>1</th>\n",
       "      <td>129606.010</td>\n",
       "      <td>33.138988</td>\n",
       "      <td>121082.015</td>\n",
       "      <td>38.837661</td>\n",
       "      <td>8523.995</td>\n",
       "      <td>-47.809777</td>\n",
       "      <td>0.062500</td>\n",
       "      <td>15.4</td>\n",
       "      <td>38.8</td>\n",
       "      <td>26.8</td>\n",
       "      <td>0.0</td>\n",
       "      <td>N</td>\n",
       "      <td>N</td>\n",
       "      <td>January</td>\n",
       "      <td>Friday</td>\n",
       "      <td>2015</td>\n",
       "    </tr>\n",
       "    <tr>\n",
       "      <th>2</th>\n",
       "      <td>142300.540</td>\n",
       "      <td>34.564855</td>\n",
       "      <td>142300.540</td>\n",
       "      <td>34.564855</td>\n",
       "      <td>0.000</td>\n",
       "      <td>0.000000</td>\n",
       "      <td>0.000000</td>\n",
       "      <td>20.0</td>\n",
       "      <td>38.2</td>\n",
       "      <td>26.5</td>\n",
       "      <td>0.0</td>\n",
       "      <td>N</td>\n",
       "      <td>N</td>\n",
       "      <td>January</td>\n",
       "      <td>Saturday</td>\n",
       "      <td>2015</td>\n",
       "    </tr>\n",
       "    <tr>\n",
       "      <th>3</th>\n",
       "      <td>104330.715</td>\n",
       "      <td>25.005560</td>\n",
       "      <td>104330.715</td>\n",
       "      <td>25.005560</td>\n",
       "      <td>0.000</td>\n",
       "      <td>0.000000</td>\n",
       "      <td>0.000000</td>\n",
       "      <td>16.3</td>\n",
       "      <td>21.4</td>\n",
       "      <td>25.2</td>\n",
       "      <td>4.2</td>\n",
       "      <td>N</td>\n",
       "      <td>N</td>\n",
       "      <td>January</td>\n",
       "      <td>Sunday</td>\n",
       "      <td>2015</td>\n",
       "    </tr>\n",
       "    <tr>\n",
       "      <th>4</th>\n",
       "      <td>118132.200</td>\n",
       "      <td>26.724176</td>\n",
       "      <td>118132.200</td>\n",
       "      <td>26.724176</td>\n",
       "      <td>0.000</td>\n",
       "      <td>0.000000</td>\n",
       "      <td>0.000000</td>\n",
       "      <td>15.0</td>\n",
       "      <td>22.0</td>\n",
       "      <td>30.7</td>\n",
       "      <td>0.0</td>\n",
       "      <td>N</td>\n",
       "      <td>N</td>\n",
       "      <td>January</td>\n",
       "      <td>Monday</td>\n",
       "      <td>2015</td>\n",
       "    </tr>\n",
       "  </tbody>\n",
       "</table>\n",
       "</div>"
      ],
      "text/plain": [
       "       demand        RRP  demand_pos_RRP  RRP_positive  demand_neg_RRP  \\\n",
       "0   99635.030  25.633696       97319.240     26.415953        2315.790   \n",
       "1  129606.010  33.138988      121082.015     38.837661        8523.995   \n",
       "2  142300.540  34.564855      142300.540     34.564855           0.000   \n",
       "3  104330.715  25.005560      104330.715     25.005560           0.000   \n",
       "4  118132.200  26.724176      118132.200     26.724176           0.000   \n",
       "\n",
       "   RRP_negative  frac_at_neg_RRP  min_temperature  max_temperature  \\\n",
       "0     -7.240000         0.020833             13.3             26.9   \n",
       "1    -47.809777         0.062500             15.4             38.8   \n",
       "2      0.000000         0.000000             20.0             38.2   \n",
       "3      0.000000         0.000000             16.3             21.4   \n",
       "4      0.000000         0.000000             15.0             22.0   \n",
       "\n",
       "   solar_exposure  rainfall school_day holiday    month       day  year  \n",
       "0            23.6       0.0          N       Y  January  Thursday  2015  \n",
       "1            26.8       0.0          N       N  January    Friday  2015  \n",
       "2            26.5       0.0          N       N  January  Saturday  2015  \n",
       "3            25.2       4.2          N       N  January    Sunday  2015  \n",
       "4            30.7       0.0          N       N  January    Monday  2015  "
      ]
     },
     "execution_count": 11,
     "metadata": {},
     "output_type": "execute_result"
    }
   ],
   "source": [
    "data.head(5)"
   ]
  },
  {
   "cell_type": "code",
   "execution_count": 37,
   "id": "e63a8529-e397-4253-bfea-fed4c88290c1",
   "metadata": {
    "executionStartedAt": 1667840094209,
    "executionStoppedAt": 1667840094214,
    "executionTime": 4878,
    "lastSuccessfullyExecutedCode": "#lets visualize the days with the highest electricity demand\nimport matplotlib.pyplot as plt\nfig, ax= plt.subplots()\nax.bar(data['day'], data['demand'],color='orange')\nax.set(xlabel='Days', ylabel='Electricity Demand', title='Daily Electricity Demand')\nplt.show()",
    "queuedAt": 1667840091940
   },
   "outputs": [
    {
     "data": {
      "image/png": "[encoded data removed]",
      "text/plain": [
       "<Figure size 640x480 with 1 Axes>"
      ]
     },
     "metadata": {},
     "output_type": "display_data"
    }
   ],
   "source": [
    "#lets visualize the days with the highest electricity demand\n",
    "import matplotlib.pyplot as plt\n",
    "fig, ax= plt.subplots()\n",
    "ax.bar(data['month'], data[''],color='orange')\n",
    "ax.set(xlabel='Days', ylabel='Electricity Demand', title='Daily Electricity Demand')\n",
    "plt.grid()\n",
    "plt.show()"
   ]
  },
  {
   "cell_type": "code",
   "execution_count": 35,
   "id": "8beaab10-2bdd-4640-afbe-e9d27cf2a7da",
   "metadata": {},
   "outputs": [
    {
     "data": {
      "text/plain": [
       "Text(0, 0.5, 'Density of rides')"
      ]
     },
     "execution_count": 35,
     "metadata": {},
     "output_type": "execute_result"
    },
    {
     "data": {
      "image/png": "[encoded data removed]",
      "text/plain": [
       "<Figure size 1000x600 with 1 Axes>"
      ]
     },
     "metadata": {},
     "output_type": "display_data"
    }
   ],
   "source": [
    "#Visualize the Density of rides per Day of month\n",
    "fig,ax = plt.subplots(figsize = (10,6))\n",
    "plt.hist(data.month, width= 0.6, bins= 30)\n",
    "plt.title(\"Density of trips per Day\", fontsize=16)\n",
    "plt.xlabel(\"Day\", fontsize=14)\n",
    "plt.ylabel(\"Density of rides\", fontsize=14)"
   ]
  },
  {
   "cell_type": "markdown",
   "id": "058979b2-4ae6-48dd-80cd-3925d36b5a49",
   "metadata": {},
   "source": [
    "**The demand for solar energy is a lot higher on fridays** "
   ]
  },
  {
   "cell_type": "code",
   "execution_count": 23,
   "id": "6321069d-f089-4693-9f2b-d1c676d1ca1f",
   "metadata": {
    "executionTime": 3396,
    "lastSuccessfullyExecutedCode": "#lets visualize the days with the highest electricity demand\nimport matplotlib.pyplot as plt\nfig, ax= plt.subplots(figsize=(12,6))\nax.bar(data['month'], data['demand'],color='g')\nax.set(xlabel='Month', ylabel='Electricity Demand', title='Monthly Electricity Demand')\nplt.show()"
   },
   "outputs": [
    {
     "data": {
      "image/png": "[encoded data removed]",
      "text/plain": [
       "<Figure size 1200x600 with 1 Axes>"
      ]
     },
     "metadata": {},
     "output_type": "display_data"
    }
   ],
   "source": [
    "#lets visualize the days with the highest electricity demand\n",
    "import matplotlib.pyplot as plt\n",
    "fig, ax= plt.subplots(figsize=(12,6))\n",
    "ax.bar(data['month'], data['RRP'],color='g')\n",
    "ax.set(xlabel='Month', ylabel='Electricity Demand', title='Monthly Electricity Demand')\n",
    "plt.show()"
   ]
  },
  {
   "cell_type": "code",
   "execution_count": 14,
   "id": "027e1524-82ca-4a7e-a1d9-3e55c0cd7d1d",
   "metadata": {
    "executionTime": 3192,
    "lastSuccessfullyExecutedCode": "fig, ax= plt.subplots(figsize=(12,6))\nax.bar(data['month'], data['solar_exposure'],color='blue')\nax.set(xlabel='Month', ylabel='Solar Exposure', title='Solar Exposure')\nplt.legend()\nplt.show()"
   },
   "outputs": [
    {
     "data": {
      "image/png": "[encoded data removed]",
      "text/plain": [
       "<Figure size 1200x600 with 1 Axes>"
      ]
     },
     "metadata": {},
     "output_type": "display_data"
    }
   ],
   "source": [
    "fig, ax= plt.subplots(figsize=(12,6))\n",
    "ax.bar(data['month'], data['solar_exposure'],color='blue')\n",
    "ax.set(xlabel='Month', ylabel='Solar Exposure', title='Solar Exposure')\n",
    "plt.legend()\n",
    "plt.show()"
   ]
  },
  {
   "cell_type": "markdown",
   "id": "f02efb57-f3fd-4c75-9c1a-8521aa19db55",
   "metadata": {},
   "source": [
    "**January - March : Experienced High sunlight energy,\n",
    "April-August : The rainy season impacted exposure resulting to low** "
   ]
  },
  {
   "cell_type": "code",
   "execution_count": 54,
   "id": "6c053ab4-4cec-41c8-bace-bf5cbfd797c3",
   "metadata": {},
   "outputs": [
    {
     "ename": "NameError",
     "evalue": "name 'sns' is not defined",
     "output_type": "error",
     "traceback": [
      "\u001b[0;31m---------------------------------------------------------------------------\u001b[0m",
      "\u001b[0;31mNameError\u001b[0m                                 Traceback (most recent call last)",
      "Input \u001b[0;32mIn [15]\u001b[0m, in \u001b[0;36m<cell line: 1>\u001b[0;34m()\u001b[0m\n\u001b[0;32m----> 1\u001b[0m \u001b[43msns\u001b[49m\u001b[38;5;241m.\u001b[39mdisplot(x \u001b[38;5;241m=\u001b[39m \u001b[38;5;124m'\u001b[39m\u001b[38;5;124msolar_exposure\u001b[39m\u001b[38;5;124m'\u001b[39m,kde\u001b[38;5;241m=\u001b[39m\u001b[38;5;28;01mTrue\u001b[39;00m,bins \u001b[38;5;241m=\u001b[39m \u001b[38;5;241m5\u001b[39m , data \u001b[38;5;241m=\u001b[39mdata)\n",
      "\u001b[0;31mNameError\u001b[0m: name 'sns' is not defined"
     ]
    }
   ],
   "source": [
    "\n",
    "\n",
    "sns.displot(x = 'solar_exposure',kde=True,bins = 5 , data =data)"
   ]
  },
  {
   "cell_type": "code",
   "execution_count": null,
   "id": "eb8c80cd-cd13-41c8-b7ee-ccdd0b126e4b",
   "metadata": {
    "executionCancelledAt": 1668425949752
   },
   "outputs": [],
   "source": []
  }
 ],
 "metadata": {
  "kernelspec": {
   "display_name": "Python 3 (ipykernel)",
   "language": "python",
   "name": "python3"
  },
  "language_info": {
   "codemirror_mode": {
    "name": "ipython",
    "version": 3
   },
   "file_extension": ".py",
   "mimetype": "text/x-python",
   "name": "python",
   "nbconvert_exporter": "python",
   "pygments_lexer": "ipython3",
   "version": "3.10.6"
  }
 },
 "nbformat": 4,
 "nbformat_minor": 5
}
